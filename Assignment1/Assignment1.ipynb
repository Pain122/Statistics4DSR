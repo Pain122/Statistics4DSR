{
 "cells": [
  {
   "cell_type": "markdown",
   "id": "b6c0cf43-bcef-46f9-a156-29a36382bff5",
   "metadata": {},
   "source": [
    "# Statistical Techniques for Data Science and Robotics Assignment 1\n",
    "## Tishkin Pavel"
   ]
  },
  {
   "cell_type": "code",
   "execution_count": 1,
   "id": "bf24f714-2363-4427-8d59-2478f525e3db",
   "metadata": {},
   "outputs": [],
   "source": [
    "import numpy as np\n",
    "import random\n",
    "import math\n",
    "import time\n",
    "import sys\n",
    "from matplotlib import pyplot as plt"
   ]
  },
  {
   "cell_type": "markdown",
   "id": "c3ed6423-6e6b-4e75-af0a-66b7f20a2128",
   "metadata": {},
   "source": [
    "### Implementation of ARS97 algorithm\n",
    "\n",
    "This algorithm was implemented based on articles:\n",
    "\n",
    "- https://ieeexplore.ieee.org/document/9001104\n",
    "- https://www.researchgate.net/publication/2301429_A_One-Pass_Algorithm_for_Accurately_Estimating_Quantiles_for_Disk-Resident_Data"
   ]
  },
  {
   "cell_type": "code",
   "execution_count": 2,
   "id": "d717c6fd-7174-4f00-ade4-a6e40afc28b3",
   "metadata": {},
   "outputs": [],
   "source": [
    "class ARS97:\n",
    "    def __init__(self, data: np.array, m: int, s: int):\n",
    "        \"\"\"\n",
    "        m: Int. Size of a run. Number of runs is n/m\n",
    "        s: Int. Number of samples to derive from a run. Should be of power 2.\n",
    "        \"\"\"\n",
    "        self.data = data\n",
    "        self.m = m\n",
    "        self.s = s\n",
    "        self.n = len(data)\n",
    "        self.r = self.n/self.m\n",
    "        self.max_depth = int(math.log(s, 2))\n",
    "        self.samples = np.array([])\n",
    "    \n",
    "    def sample(self, data: np.array):\n",
    "        \"\"\"\n",
    "        Finds samples for the given run of the dataset\n",
    "        \n",
    "        data: np.array. Run for which to find samples\n",
    "        \"\"\"\n",
    "        lists = self.divide(data, 0)\n",
    "        samples = np.array([max(l) for l in lists])\n",
    "        return samples\n",
    "        \n",
    "    def divide(self, data: np.array, depth: int):\n",
    "        \"\"\"\n",
    "        Helper function which recursively divides original data to sub arrays\n",
    "        until reaches the nesessary size as stated in paper\n",
    "        \n",
    "        data: np.array. Data to be divided\n",
    "        depth: Int. current depth of division\n",
    "        \"\"\"\n",
    "        if depth == self.max_depth:\n",
    "            return np.array([data])\n",
    "        else:\n",
    "            median = np.median(data)\n",
    "            half = len(data) // 2\n",
    "            left = np.array(list(filter(lambda x: x < median, data)))\n",
    "            left = self.impute(left, median, half)\n",
    "            right = np.array(list(filter(lambda x: x > median, data)))\n",
    "            right = self.impute(right, median, half)\n",
    "            return np.append(self.divide(left, depth+1), self.divide(right, depth+1), axis=0)\n",
    "    \n",
    "    def impute(self, data: np.array, median: float, half: int):\n",
    "        \"\"\"\n",
    "        Imputes the data with median value to have lists of equal length\n",
    "        (If we have the median as a repeated value this comes handy)\n",
    "        \n",
    "        data: np.array. Original array\n",
    "        median: float. Median value\n",
    "        half: int. Size of the half array, which our array should be equal to in size\n",
    "        \"\"\"\n",
    "        length = half - len(data)\n",
    "        if (length > 0):\n",
    "            return np.append(data, np.full(length, median))\n",
    "        else:\n",
    "            return data\n",
    "    \n",
    "    def sample_phase(self):\n",
    "        \"\"\"\n",
    "        Sample Phase of the original paper\n",
    "        \"\"\"\n",
    "        m = self.m\n",
    "        for i in range(len(self.data)//m):\n",
    "            samples = self.sample(self.data[i*m:(i+1)*m])\n",
    "            self.samples = np.append(self.samples, self.sample(self.data[i*m:(i+1)*m]), axis=0)\n",
    "        self.samples = sorted(self.samples)\n",
    "        \n",
    "    def quantile_phase(self, quantile: float):\n",
    "        \"\"\"\n",
    "        Quantile Phase of the original paper\n",
    "        Returns lower bound and upper bound of estimation\n",
    "        \n",
    "        quantile: Float: quantile to be approximated\n",
    "        \"\"\"\n",
    "        sm = self.s/self.m\n",
    "        alpha = self.n*quantile\n",
    "        lower = math.ceil((sm)*alpha - (self.r-1)*(1-sm))\n",
    "        upper = math.floor(alpha*(sm))\n",
    "        return self.samples[lower], self.samples[upper] "
   ]
  },
  {
   "cell_type": "markdown",
   "id": "24dca57d-3df2-4da8-84ce-7b0549975272",
   "metadata": {},
   "source": [
    "### Method simulation"
   ]
  },
  {
   "cell_type": "code",
   "execution_count": 3,
   "id": "c5b3515e-4503-4c96-b507-1c410e21a369",
   "metadata": {},
   "outputs": [],
   "source": [
    "data = np.array(np.linspace(1, 1024, 1024))\n",
    "actual = data[int(1024*0.5)]\n",
    "np.random.shuffle(data)"
   ]
  },
  {
   "cell_type": "code",
   "execution_count": 4,
   "id": "00db28b5-a68f-471f-87cc-b128e4586366",
   "metadata": {},
   "outputs": [
    {
     "name": "stdout",
     "output_type": "stream",
     "text": [
      "Lower bound of Quantile: 511.0\n",
      "Upper bound of Quantile: 518.0\n",
      "Actual quantile: 513.0\n",
      "Actual quantile is in the range [511.0-518.0],\n",
      "and satisfies the guarantee of the algorithm of max range 7.0 <= 16.0\n"
     ]
    }
   ],
   "source": [
    "ars = ARS97(data, 128, 64)\n",
    "ars.sample_phase()\n",
    "lower, upper = ars.quantile_phase(0.5)\n",
    "print(f'Lower bound of Quantile: {lower}')\n",
    "print(f'Upper bound of Quantile: {upper}')\n",
    "print(f'Actual quantile: {actual}')\n",
    "print(f'Actual quantile is in the range [{lower}-{upper}],')\n",
    "print(f'and satisfies the guarantee of the algorithm of max range {upper-lower} <= {ars.n/ars.s}')"
   ]
  },
  {
   "cell_type": "markdown",
   "id": "88a84bf9-0ca0-4a14-a960-c6ddfac71a79",
   "metadata": {},
   "source": [
    "### Complexity analysis"
   ]
  },
  {
   "cell_type": "markdown",
   "id": "a2201362-bc77-4ef6-b48a-0b57bc081450",
   "metadata": {},
   "source": [
    "### Time Complexity"
   ]
  },
  {
   "cell_type": "code",
   "execution_count": 5,
   "id": "267eaff1-1009-433f-b761-63d538dbc810",
   "metadata": {},
   "outputs": [],
   "source": [
    "data = [np.array(np.linspace(1, 2**i, 2**i)) for i in range(10, 18, 2)]\n",
    "times = []\n",
    "spaces = []\n",
    "for d in data:\n",
    "    start_time = time.time()\n",
    "    ars = ARS97(d, 128, 64)\n",
    "    ars.sample_phase()\n",
    "    ars.quantile_phase(0.5)\n",
    "    spaces.append(sys.getsizeof(ars.samples))\n",
    "    times.append(time.time() - start_time)"
   ]
  },
  {
   "cell_type": "code",
   "execution_count": 6,
   "id": "bb862df6-22f4-4b3a-93a3-9a1e2db84ad4",
   "metadata": {},
   "outputs": [
    {
     "data": {
      "image/png": "[encoded data removed]",
      "text/plain": [
       "<Figure size 432x288 with 1 Axes>"
      ]
     },
     "metadata": {
      "needs_background": "light"
     },
     "output_type": "display_data"
    }
   ],
   "source": [
    "plt.plot([2**i for i in range(10, 18, 2)], times)\n",
    "plt.suptitle('Time Complexity of ARS97')\n",
    "plt.xlabel(\"Number of data in collection\")\n",
    "plt.ylabel('Time (s)')\n",
    "plt.show()"
   ]
  },
  {
   "cell_type": "markdown",
   "id": "d5c70674-91c5-415b-8c14-a7a09bb9644a",
   "metadata": {},
   "source": [
    "As we can see, the graph shows linear complexity, which is exactly as was stated in the original paper"
   ]
  },
  {
   "cell_type": "markdown",
   "id": "6b0545bd-7902-4698-9763-71c00b8045f0",
   "metadata": {},
   "source": [
    "### Space Complexity"
   ]
  },
  {
   "cell_type": "code",
   "execution_count": 7,
   "id": "caff9235-7ccb-44b2-a473-3408178400c3",
   "metadata": {},
   "outputs": [
    {
     "data": {
      "image/png": "[encoded data removed]",
      "text/plain": [
       "<Figure size 432x288 with 1 Axes>"
      ]
     },
     "metadata": {
      "needs_background": "light"
     },
     "output_type": "display_data"
    }
   ],
   "source": [
    "plt.plot([2**i for i in range(10, 18, 2)], spaces)\n",
    "plt.suptitle('Time Complexity of ARS97')\n",
    "plt.xlabel(\"Number of data in collection\")\n",
    "plt.ylabel('Time (s)')\n",
    "plt.show()"
   ]
  },
  {
   "cell_type": "markdown",
   "id": "8e9d3961-e34c-4fc5-be45-69b9cf36da32",
   "metadata": {},
   "source": [
    "Space Complexity of this algorithm is $$O(m + \\frac{n}{m} * s) = O(n)$$ where m - size of the run and r - number of runs. The equality holds due to m and s being constants and n is the only parameter that is dependent on data. In my analysis I measured only the size of samples due to it being the only non-constant thing in the equation and it is indeed linear. The original paper speaks nothing of space complexity"
   ]
  }
 ],
 "metadata": {
  "kernelspec": {
   "display_name": "Python 3",
   "language": "python",
   "name": "python3"
  },
  "language_info": {
   "codemirror_mode": {
    "name": "ipython",
    "version": 3
   },
   "file_extension": ".py",
   "mimetype": "text/x-python",
   "name": "python",
   "nbconvert_exporter": "python",
   "pygments_lexer": "ipython3",
   "version": "3.8.8"
  }
 },
 "nbformat": 4,
 "nbformat_minor": 5
}
